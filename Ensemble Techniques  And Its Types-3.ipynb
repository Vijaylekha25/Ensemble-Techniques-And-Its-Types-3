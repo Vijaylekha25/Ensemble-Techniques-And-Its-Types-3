{
 "cells": [
  {
   "cell_type": "markdown",
   "id": "18ec2e19-2907-407a-9263-81e26c9e3421",
   "metadata": {},
   "source": [
    "Q1. What is Random Forest Regressor?"
   ]
  },
  {
   "cell_type": "markdown",
   "id": "7a01e9b7-5dfc-4eb1-900f-7ac1ca624ba4",
   "metadata": {},
   "source": [
    "Answer- Random Forest Regressor is a machine learning algorithm used for regression tasks. It is an ensemble learning method that operates by constructing multiple decision trees during training and outputs the average prediction of the individual trees for regression tasks.\n"
   ]
  },
  {
   "cell_type": "code",
   "execution_count": 1,
   "id": "279a7549-ecad-4729-9912-2e78d046068e",
   "metadata": {},
   "outputs": [
    {
     "ename": "ModuleNotFoundError",
     "evalue": "No module named 'sklearn'",
     "output_type": "error",
     "traceback": [
      "\u001b[1;31m---------------------------------------------------------------------------\u001b[0m",
      "\u001b[1;31mModuleNotFoundError\u001b[0m                       Traceback (most recent call last)",
      "Cell \u001b[1;32mIn[1], line 1\u001b[0m\n\u001b[1;32m----> 1\u001b[0m \u001b[38;5;28;01mfrom\u001b[39;00m \u001b[38;5;21;01msklearn\u001b[39;00m\u001b[38;5;21;01m.\u001b[39;00m\u001b[38;5;21;01mensemble\u001b[39;00m \u001b[38;5;28;01mimport\u001b[39;00m RandomForestRegressor\n\u001b[0;32m      2\u001b[0m \u001b[38;5;28;01mfrom\u001b[39;00m \u001b[38;5;21;01msklearn\u001b[39;00m\u001b[38;5;21;01m.\u001b[39;00m\u001b[38;5;21;01mdatasets\u001b[39;00m \u001b[38;5;28;01mimport\u001b[39;00m make_regression\n\u001b[0;32m      4\u001b[0m \u001b[38;5;66;03m# Q1. What is Random Forest Regressor?\u001b[39;00m\n\u001b[0;32m      5\u001b[0m \u001b[38;5;66;03m# Initializing a Random Forest Regressor\u001b[39;00m\n",
      "\u001b[1;31mModuleNotFoundError\u001b[0m: No module named 'sklearn'"
     ]
    }
   ],
   "source": [
    "from sklearn.ensemble import RandomForestRegressor\n",
    "from sklearn.datasets import make_regression\n",
    "\n",
    "# Q1. What is Random Forest Regressor?\n",
    "# Initializing a Random Forest Regressor\n",
    "rf_regressor = RandomForestRegressor()"
   ]
  },
  {
   "cell_type": "markdown",
   "id": "71bc42c5-dbbf-4726-8bc2-61628e058f7d",
   "metadata": {},
   "source": [
    "Q2. How does Random Forest Regressor reduce the risk of overfitting?"
   ]
  },
  {
   "cell_type": "markdown",
   "id": "67304f36-bdaa-401f-94c9-5bfbdd8d4e06",
   "metadata": {},
   "source": [
    "Answer- Random Forest Regressor reduces the risk of overfitting through two main mechanisms:\n",
    "\n",
    "Bagging: It builds multiple decision trees on random subsets of the training data, which helps to reduce variance and overfitting by averaging the predictions of these trees.\n",
    "Random feature selection: It selects a random subset of features at each split, reducing the correlation between trees and making the model more robust against overfitting."
   ]
  },
  {
   "cell_type": "code",
   "execution_count": 3,
   "id": "f3643b78-e891-446a-ba09-1d2eabbd44b2",
   "metadata": {},
   "outputs": [],
   "source": [
    "\n",
    "# Random Forest Regressor reduces overfitting by bagging and random feature selection\n",
    "# No additional code needed, as it's inherent to the algorithm\n"
   ]
  },
  {
   "cell_type": "markdown",
   "id": "1611cfc3-6a2c-4782-8270-bf5304c65997",
   "metadata": {},
   "source": [
    "Q3. How does Random Forest Regressor aggregate the predictions of multiple decision trees?"
   ]
  },
  {
   "cell_type": "markdown",
   "id": "4fe695c5-b01e-4e4b-9234-b9bc98e8fd9b",
   "metadata": {},
   "source": [
    "Answer- Random Forest Regressor aggregates the predictions of multiple decision trees by averaging (or taking the majority vote, in the case of classification) the predictions of individual trees to produce the final output"
   ]
  },
  {
   "cell_type": "markdown",
   "id": "38a3eaa9-d833-4f62-b73d-f7270b8a668e",
   "metadata": {},
   "source": [
    "Q4. What are the hyperparameters of Random Forest Regressor?"
   ]
  },
  {
   "cell_type": "markdown",
   "id": "620cc741-71af-4a0c-96cb-ba04be7e7b95",
   "metadata": {},
   "source": [
    "Answer- Some common hyperparameters of Random Forest Regressor include:"
   ]
  },
  {
   "cell_type": "code",
   "execution_count": 4,
   "id": "cc19320e-744a-4a55-9ce6-a0f15a5a8142",
   "metadata": {},
   "outputs": [],
   "source": [
    "n_estimators = 100\n",
    "max_depth = None\n",
    "min_samples_split = 2\n",
    "min_samples_leaf = 1\n",
    "max_features = 'auto'"
   ]
  },
  {
   "cell_type": "markdown",
   "id": "106c6d07-c723-4874-937a-4090a2149cc5",
   "metadata": {},
   "source": [
    "Q5. What is the difference between Random Forest Regressor and Decision Tree Regressor?"
   ]
  },
  {
   "cell_type": "markdown",
   "id": "07d503e7-5209-4721-9a83-2124a2a2600b",
   "metadata": {},
   "source": [
    "Answer- Random Forest Regressor is an ensemble method composed of multiple decision trees, while Decision Tree Regressor is a single decision tree. Random Forest Regressor tends to have better generalization performance and is less prone to overfitting compared to Decision Tree Regressor."
   ]
  },
  {
   "cell_type": "markdown",
   "id": "89ae8bc2-8cfb-432a-a549-8d4a31ee80e7",
   "metadata": {},
   "source": [
    "Q6. What are the advantages and disadvantages of Random Forest Regressor?"
   ]
  },
  {
   "cell_type": "markdown",
   "id": "10776ecb-a3e1-4334-bf2a-c2aed4b5bc9a",
   "metadata": {},
   "source": [
    "# Advantages:\n",
    "\n",
    "Generally provides high accuracy and robustness.\n",
    "Handles missing values well.\n",
    "Less prone to overfitting compared to individual decision trees.\n",
    "Suitable for large datasets with high dimensionality.\n",
    "# Disadvantages:\n",
    "\n",
    "Can be computationally expensive, especially with a large number of trees and features.\n",
    "Harder to interpret compared to single decision trees.\n",
    "May not perform well with highly imbalanced datasets."
   ]
  },
  {
   "cell_type": "markdown",
   "id": "ddd7bccd-1598-47e1-b0e6-e9f725f647a9",
   "metadata": {},
   "source": [
    "Q7. What is the output of Random Forest Regressor?"
   ]
  },
  {
   "cell_type": "markdown",
   "id": "9de73f24-eb38-44c4-8a12-4966434277ff",
   "metadata": {},
   "source": [
    "Answer- The output of Random Forest Regressor is a continuous value, which represents the predicted target variable for the given input features."
   ]
  },
  {
   "cell_type": "markdown",
   "id": "6bf9f03d-e6e7-4958-a52a-cae3e8d7b91a",
   "metadata": {},
   "source": [
    "Q8. Can Random Forest Regressor be used for classification tasks?"
   ]
  },
  {
   "cell_type": "markdown",
   "id": "181bf528-30dc-4757-beca-16c4048fdcad",
   "metadata": {},
   "source": [
    "Answer- Yes, Random Forest Regressor can also be used for classification tasks. In classification tasks, it predicts the class label based on the majority vote of the individual decision trees in the forest."
   ]
  },
  {
   "cell_type": "code",
   "execution_count": null,
   "id": "5740b86b-4605-40b2-b2d6-92d58a388e9d",
   "metadata": {},
   "outputs": [],
   "source": []
  }
 ],
 "metadata": {
  "kernelspec": {
   "display_name": "Python 3 (ipykernel)",
   "language": "python",
   "name": "python3"
  },
  "language_info": {
   "codemirror_mode": {
    "name": "ipython",
    "version": 3
   },
   "file_extension": ".py",
   "mimetype": "text/x-python",
   "name": "python",
   "nbconvert_exporter": "python",
   "pygments_lexer": "ipython3",
   "version": "3.12.2"
  }
 },
 "nbformat": 4,
 "nbformat_minor": 5
}
